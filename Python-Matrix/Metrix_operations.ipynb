{
 "cells": [
  {
   "cell_type": "markdown",
   "id": "b9815925-5774-44e5-8cb2-f1be145a36c5",
   "metadata": {},
   "source": [
    "Method 1: Creating a matrix with a List of list"
   ]
  },
  {
   "cell_type": "code",
   "execution_count": 2,
   "id": "15c089a8-7bdc-498f-87c1-7f9744e90086",
   "metadata": {},
   "outputs": [
    {
     "name": "stdout",
     "output_type": "stream",
     "text": [
      "[[1, 2, 3, 4], [5, 6, 7, 8], [9, 10, 11, 12]]\n"
     ]
    }
   ],
   "source": [
    "mat = [[1, 2, 3, 4], \n",
    "    [5, 6, 7, 8],\n",
    "    [9, 10, 11, 12]]\n",
    "\n",
    "print(mat)"
   ]
  },
  {
   "cell_type": "markdown",
   "id": "bfacaa6c-0578-45cb-8664-a4680fda536e",
   "metadata": {},
   "source": [
    "Method 2: Take Matrix input from user in Python"
   ]
  },
  {
   "cell_type": "code",
   "execution_count": 10,
   "id": "9ac47622-cdba-4000-a66b-a18c5155c558",
   "metadata": {},
   "outputs": [
    {
     "name": "stdin",
     "output_type": "stream",
     "text": [
      "rows:  2\n",
      "columns:  2\n"
     ]
    },
    {
     "name": "stdout",
     "output_type": "stream",
     "text": [
      "Entries row-wise:\n"
     ]
    },
    {
     "name": "stdin",
     "output_type": "stream",
     "text": [
      " 2\n",
      " 2\n",
      " 2\n",
      " 2\n"
     ]
    },
    {
     "name": "stdout",
     "output_type": "stream",
     "text": [
      "\n",
      "2D matrix is:\n",
      "2 2 \n",
      "2 2 \n"
     ]
    }
   ],
   "source": [
    "rows = int(input(\"rows: \"))\n",
    "col = int(input(\"columns: \"))\n",
    "\n",
    "matrix = []\n",
    "print(\"Entries row-wise:\")\n",
    "\n",
    "for i in range(rows):\n",
    "    row = []\n",
    "    for j in range(col):\n",
    "        row.append(int(input()))\n",
    "    matrix.append(row)\n",
    "\n",
    "print(\"\\n2D matrix is:\")\n",
    "\n",
    "for i in range(rows):\n",
    "    for j in range(col):\n",
    "        print(matrix[i][j], end=\" \")\n",
    "    print()\n",
    "        "
   ]
  },
  {
   "cell_type": "code",
   "execution_count": 16,
   "id": "bae2a7dc-8116-427f-92a9-e6522f5b8040",
   "metadata": {},
   "outputs": [
    {
     "name": "stdin",
     "output_type": "stream",
     "text": [
      "rows:  2\n",
      "columns:  2\n",
      " 1\n",
      " 2\n",
      " 3\n",
      " 4\n"
     ]
    },
    {
     "name": "stdout",
     "output_type": "stream",
     "text": [
      "[[1, 2], [3, 4]]\n"
     ]
    }
   ],
   "source": [
    "rows = int(input(\"rows: \"))\n",
    "rcol = int(input(\"columns: \"))\n",
    "metrices = [] \n",
    "for i in range(rows):\n",
    "    row = []\n",
    "    for j in range(col):\n",
    "        row.append(int(input()))\n",
    "    metrices.append(row)\n",
    "print(metrices, end=')"
   ]
  },
  {
   "cell_type": "code",
   "execution_count": 26,
   "id": "a5f1765c-eb7f-448a-afbd-6bce7d9cd8f9",
   "metadata": {},
   "outputs": [
    {
     "name": "stdout",
     "output_type": "stream",
     "text": [
      "[[2, 2], [2, 2]]\n"
     ]
    }
   ],
   "source": [
    "metrice = []\n",
    "\n",
    "for i in range(2):\n",
    "    row = []\n",
    "    for i in range(2):\n",
    "            row.append(2)\n",
    "    metrice.append(row)\n",
    "\n",
    "print(metrice)"
   ]
  },
  {
   "cell_type": "markdown",
   "id": "83affbf4-8810-460a-b1a8-7ba83cac0b06",
   "metadata": {},
   "source": [
    "---\n",
    "\n",
    "### 📝 Section: Creating a Matrix Using Nested Loops in Python\n",
    "\n",
    "This program allows the user to create a 2D matrix by entering values row by row. It uses nested `for` loops:\n",
    "\n",
    "* The **outer loop** runs for each **row** of the matrix.\n",
    "* Inside it, a temporary list called `row` collects values for that row using the **inner loop**, which runs through each **column**.\n",
    "* After filling one complete row, it’s appended to the main `matrix` list.\n",
    "\n",
    "This structure allows dynamic creation of matrices of any size based on user input.\n",
    "\n",
    "Example:\n",
    "For a 2x3 matrix with inputs `1 2 3 4 5 6`, the final output will be:\n",
    "\n",
    "```\n",
    "[[1, 2, 3],  \n",
    " [4, 5, 6]]\n",
    "```\n",
    "\n",
    "---\n"
   ]
  },
  {
   "cell_type": "code",
   "execution_count": 31,
   "id": "b7c77882-b52f-4496-99e3-4e0165fee537",
   "metadata": {},
   "outputs": [
    {
     "name": "stdout",
     "output_type": "stream",
     "text": [
      "[[0, 1, 2, 3], [0, 1, 2, 3], [0, 1, 2, 3], [0, 1, 2, 3]]\n"
     ]
    }
   ],
   "source": [
    "# List comprehension for creating metrix\n",
    "matrix = [[col for col in range(4)] for row in range(4)]\n",
    "print(matrix)\n",
    "\n"
   ]
  },
  {
   "cell_type": "raw",
   "id": "e9932974-2e68-475e-a149-f8b13394019a",
   "metadata": {},
   "source": [
    "💡 Logic:\n",
    "Outer loop: for row in range(4) → creates 4 rows.\n",
    "\n",
    "Inner loop: for col in range(4) → fills each row with numbers 0 to 3."
   ]
  },
  {
   "cell_type": "markdown",
   "id": "86261390-836a-4860-a7ee-8a115861e190",
   "metadata": {},
   "source": [
    "PART 2: Assigning Values in a Matrix\n",
    "🔸 Method 1: Assign using direct positive index"
   ]
  },
  {
   "cell_type": "code",
   "execution_count": 34,
   "id": "14e5aebf-4586-4a0b-ade6-73937e6c6727",
   "metadata": {},
   "outputs": [
    {
     "name": "stdout",
     "output_type": "stream",
     "text": [
      "[[1, 2, 3], [4, 11, 6], [7, 8, 9]]\n"
     ]
    }
   ],
   "source": [
    "x = [[1, 2, 3], [4, 5, 6], [7, 8, 9]]\n",
    "x[1][1] = 11\n",
    "print(x)\n"
   ]
  },
  {
   "cell_type": "markdown",
   "id": "e9dbeac0-12b8-4856-8391-50dd01fc8d83",
   "metadata": {},
   "source": [
    "🔸 Method 2: Assign using negative index"
   ]
  },
  {
   "cell_type": "code",
   "execution_count": 37,
   "id": "08b00137-d6fa-4aed-98a3-7b477587689e",
   "metadata": {},
   "outputs": [],
   "source": [
    "x[-2][-1] = 21\n"
   ]
  },
  {
   "cell_type": "raw",
   "id": "d166a2d3-f902-47e7-8120-73f410047afe",
   "metadata": {},
   "source": [
    "✅ PART 3: Accessing Values in a Matrix\n",
    "🔸 Method 1: Direct Access\n",
    "python\n",
    "Copy code\n",
    "print(x[0][2])  # First row, third column → 3\n",
    "print(x[2][2])  # Third row, third column → 9\n",
    "🔸 Method 2: Negative Index\n",
    "python\n",
    "Copy code\n",
    "print(x[-1][-2])  # Last row, second-last column → 8\n"
   ]
  },
  {
   "cell_type": "markdown",
   "id": "c872dd5e-ada9-4e8c-9060-f1bc81dbe9de",
   "metadata": {},
   "source": [
    "✅ Mathematical operations, Example1: Matrix Addition using Loops"
   ]
  },
  {
   "cell_type": "code",
   "execution_count": 42,
   "id": "a53dace6-8b47-4123-9175-e938e48244d5",
   "metadata": {},
   "outputs": [
    {
     "name": "stdout",
     "output_type": "stream",
     "text": [
      "[[10, 10, 10], [10, 10, 10], [10, 10, 10]]\n"
     ]
    }
   ],
   "source": [
    "x = [[1, 2, 3],[4, 5, 6],[7, 8, 9]]\n",
    "y = [[9, 8, 7],[6, 5, 4],[3, 2, 1]]\n",
    "res = []\n",
    "for i in range(3):\n",
    "    row = []\n",
    "    for j in range(3):\n",
    "        row.append(x[i][j]+y[i][j])\n",
    "    res.append(row)\n",
    "\n",
    "print(res)"
   ]
  },
  {
   "cell_type": "raw",
   "id": "74756922-3183-41e9-b656-96b7aebaa9fb",
   "metadata": {},
   "source": [
    "\n",
    "### 🧾 **Matrix Addition using Nested Loops in Python**\n",
    "\n",
    "Matrix addition is the process of adding two matrices by summing their corresponding elements. This is a fundamental operation used in many machine learning algorithms like linear regression and neural networks.\n",
    "\n",
    "---\n",
    "\n",
    "### ✅ Example Code:\n",
    "\n",
    "```python\n",
    "x = [[1, 2, 3],\n",
    "     [4, 5, 6],\n",
    "     [7, 8, 9]]\n",
    "\n",
    "y = [[9, 8, 7],\n",
    "     [6, 5, 4],\n",
    "     [3, 2, 1]]\n",
    "\n",
    "# Initialize result matrix with 0s\n",
    "res = [[0]*3 for _ in range(3)]\n",
    "\n",
    "# Add each corresponding element\n",
    "for i in range(len(x)):           # Loop through rows\n",
    "    for j in range(len(x[0])):    # Loop through columns\n",
    "        res[i][j] = x[i][j] + y[i][j]\n",
    "\n",
    "# Display the result\n",
    "for r in res:\n",
    "    print(r)\n",
    "```\n",
    "\n",
    "---\n",
    "\n",
    "### 💡 Explanation:\n",
    "\n",
    "* `res = [[0]*3 for _ in range(3)]` creates a 3x3 result matrix filled with 0s.\n",
    "* `len(x)` gives the number of rows (3), and `len(x[0])` gives the number of columns (3).\n",
    "* We use nested `for` loops to access each cell:\n",
    "\n",
    "  * `i` → row index\n",
    "  * `j` → column index\n",
    "* `res[i][j] = x[i][j] + y[i][j]` adds the values at the same position from both matrices.\n",
    "\n",
    "---\n",
    "\n",
    "### 📌 Output:\n",
    "\n",
    "```\n",
    "[10, 10, 10]\n",
    "[10, 10, 10]\n",
    "[10, 10, 10]\n",
    "```\n",
    "\n",
    "---\n",
    "\n",
    "### 🧠 Key Concepts:\n",
    "\n",
    "* Always ensure matrices have the **same shape** before adding.\n",
    "* You can pre-create the result matrix or build it row-by-row.\n",
    "* This method teaches you how to manually manipulate data without using external libraries.\n",
    "\n"
   ]
  },
  {
   "cell_type": "code",
   "execution_count": 52,
   "id": "6a76c3a5-e622-4a9e-977a-5b24d11079e7",
   "metadata": {},
   "outputs": [
    {
     "name": "stdout",
     "output_type": "stream",
     "text": [
      "[[10, 10, 10], [10, 10, 10], [10, 10, 10]]\n",
      "[[-8, -6, -4], [-2, 0, 2], [4, 6, 8]]\n"
     ]
    }
   ],
   "source": [
    "'''\n",
    "# Initialize result matrix with 0s\n",
    "res = [[0]*3 for _ in range(3)]\n",
    "\n",
    "# Add each corresponding element\n",
    "for i in range(len(x)):           # Loop through rows\n",
    "    for j in range(len(x[0])):    # Loop through columns\n",
    "        res[i][j] = x[i][j] + y[i][j]\n",
    "'''\n",
    "# list comprehension for addition\n",
    "add_res = [\n",
    "    [x[i][j]+y[i][j] for j in range(len(x[0]))] for i in range(len(x))\n",
    "]\n",
    "print(add_res)\n",
    "\n",
    "# list comprehension for subtraction\n",
    "\n",
    "sub_res = [\n",
    "    [x[i][j]-y[i][j] for j in range(len(x[0]))]\n",
    "    for i in range(len(x))\n",
    "]\n",
    "print(sub_res)"
   ]
  },
  {
   "cell_type": "raw",
   "id": "07a897f5-a9c9-4b0e-82c9-da5de2d333bc",
   "metadata": {},
   "source": [
    "\n",
    "> “What’s the general **rule** behind deriving this kind of code?”\n",
    "\n",
    "Let’s break it down like a guide you can **reuse for any matrix operation** using list comprehension.\n",
    "\n",
    "---\n",
    "\n",
    "## ✅ Rule for Matrix List Comprehension (2D)\n",
    "\n",
    "Here’s the structure:\n",
    "\n",
    "```python\n",
    "result = [\n",
    "    [operation(x[i][j], y[i][j]) for j in range(columns)]\n",
    "    for i in range(rows)\n",
    "]\n",
    "```\n",
    "\n",
    "Where:\n",
    "\n",
    "* `i` → row index (outer loop)\n",
    "* `j` → column index (inner loop)\n",
    "* `operation` → what you want to do with the elements (like `+`, `-`, `*`, etc.)\n",
    "\n",
    "---\n",
    "\n",
    "### 🧠 Think of it in 3 parts:\n",
    "\n",
    "| Part                        | Meaning                                       |\n",
    "| --------------------------- | --------------------------------------------- |\n",
    "| `for i in range(len(x))`    | Loop through each row in matrix `x`           |\n",
    "| `for j in range(len(x[0]))` | Loop through each column in that row          |\n",
    "| `x[i][j] op y[i][j]`        | Apply your operation on each matching element |\n",
    "\n",
    "---\n",
    "\n",
    "### 📌 Apply This Rule to:\n",
    "\n",
    "| Task             | Code Snippet                         |\n",
    "| ---------------- | ------------------------------------ |\n",
    "| Addition         | `[x[i][j] + y[i][j] for j in ...]`   |\n",
    "| Subtraction      | `[x[i][j] - y[i][j] for j in ...]`   |\n",
    "| Multiplication   | `[x[i][j] * y[i][j] for j in ...]`   |\n",
    "| Division         | `[x[i][j] / y[i][j] for j in ...]`   |\n",
    "| Custom operation | `[f(x[i][j], y[i][j]) for j in ...]` |\n",
    "\n",
    "---\n",
    "\n",
    "## 🧪 Example Template\n",
    "\n",
    "Let’s say you want to apply `square of difference`:\n",
    "\n",
    "```python\n",
    "[(x[i][j] - y[i][j])**2 for j in range(len(x[0]))]\n",
    "```\n",
    "\n",
    "Wrap it in an outer loop:\n",
    "\n",
    "```python\n",
    "result = [[(x[i][j] - y[i][j])**2 for j in range(len(x[0]))] for i in range(len(x))]\n",
    "```\n",
    "\n",
    "---\n",
    "\n",
    "### ✅ Key Takeaway:\n",
    "\n",
    "> **Outer loop = rows**\n",
    "> **Inner loop = columns**\n",
    "> **Inside = operation on individual elements**\n",
    "\n",
    "---\n"
   ]
  },
  {
   "cell_type": "code",
   "execution_count": 66,
   "id": "5c7375ec-a1a3-47e6-bb12-8bcb6fa8ec35",
   "metadata": {},
   "outputs": [
    {
     "name": "stdout",
     "output_type": "stream",
     "text": [
      "[1, 4]\n",
      "[2, 5]\n",
      "[3, 6]\n"
     ]
    }
   ],
   "source": [
    "x = [[1, 2, 3],\n",
    "     [4, 5, 6]]\n",
    "\n",
    "transpose = []\n",
    "\n",
    "for i in range(len(x[0])):  # Loop through columns\n",
    "    row = []\n",
    "    for j in range(len(x)):  # Loop through rows\n",
    "        row.append(x[j][i])  # Get column element\n",
    "    transpose.append(row)\n",
    "\n",
    "for r in transpose:\n",
    "    print(r)\n"
   ]
  },
  {
   "cell_type": "code",
   "execution_count": 78,
   "id": "35008217-c798-41a0-97cf-4ab779449570",
   "metadata": {},
   "outputs": [],
   "source": [
    "transpose_lis = [\n",
    "    [x[i][j] for i in range(len(x))]\n",
    "    for j in range(len(x[0]))\n",
    "]"
   ]
  },
  {
   "cell_type": "code",
   "execution_count": 74,
   "id": "617231d7-ea7b-4964-8c73-9987f850c228",
   "metadata": {},
   "outputs": [
    {
     "name": "stdout",
     "output_type": "stream",
     "text": [
      "[1, 4]\n",
      "[2, 5]\n",
      "[3, 6]\n"
     ]
    }
   ],
   "source": [
    "for i in transpose_lis:\n",
    "    print(i)"
   ]
  },
  {
   "cell_type": "raw",
   "id": "46eff94f-62f5-448d-91f3-5bf2ad80b749",
   "metadata": {},
   "source": [
    "Perfect — let’s now understand two **very important operations** in linear algebra and machine learning:\n",
    "\n",
    "---\n",
    "\n",
    "## ✅ 1. Dot Product (Scalar Product)\n",
    "\n",
    "### 🔹 What is it?\n",
    "\n",
    "The **dot product** of two vectors gives a **single number** (a scalar).\n",
    "\n",
    "Given:\n",
    "\n",
    "```python\n",
    "a = [1, 2, 3]\n",
    "b = [4, 5, 6]\n",
    "```\n",
    "\n",
    "The dot product is:\n",
    "\n",
    "$$\n",
    "1×4 + 2×5 + 3×6 = 4 + 10 + 18 = 32\n",
    "$$\n",
    "\n",
    "---\n",
    "\n",
    "### ✅ Code (Normal `for` loop):\n",
    "\n",
    "```python\n",
    "a = [1, 2, 3]\n",
    "b = [4, 5, 6]\n",
    "\n",
    "dot = 0\n",
    "for i in range(len(a)):\n",
    "    dot += a[i] * b[i]\n",
    "\n",
    "print(\"Dot Product:\", dot)\n",
    "```\n",
    "\n",
    "---\n",
    "\n",
    "## ✅ 2. Cross Product (only for 3D vectors)\n",
    "\n",
    "### 🔹 What is it?\n",
    "\n",
    "The **cross product** of two 3D vectors gives a **new vector** perpendicular to both.\n",
    "\n",
    "Given:\n",
    "\n",
    "```python\n",
    "a = [a1, a2, a3]\n",
    "b = [b1, b2, b3]\n",
    "```\n",
    "\n",
    "The cross product is:\n",
    "\n",
    "$$\n",
    "[a2\\*b3 - a3\\*b2, a3\\*b1 - a1\\*b3, a1\\*b2 - a2\\*b1]\n",
    "$$\n",
    "\n",
    "---\n",
    "\n",
    "### ✅ Code (Normal `for` logic):\n",
    "\n",
    "```python\n",
    "a = [1, 2, 3]\n",
    "b = [4, 5, 6]\n",
    "\n",
    "cross = [\n",
    "    a[1]*b[2] - a[2]*b[1],   # i component\n",
    "    a[2]*b[0] - a[0]*b[2],   # j component\n",
    "    a[0]*b[1] - a[1]*b[0]    # k component\n",
    "]\n",
    "\n",
    "print(\"Cross Product:\", cross)\n",
    "```\n",
    "\n",
    "✅ Output:\n",
    "\n",
    "```\n",
    "Cross Product: [-3, 6, -3]\n",
    "```\n",
    "\n",
    "---\n",
    "\n",
    "### 🧠 When are these used in ML?\n",
    "\n",
    "| Operation     | Used For                                                                 |\n",
    "| ------------- | ------------------------------------------------------------------------ |\n",
    "| Dot Product   | Cosine similarity, projections, linear regression, activation layers     |\n",
    "| Cross Product | Not common in ML, but used in 3D geometry, physics simulations, robotics |\n",
    "\n",
    "---\n",
    "\n",
    "Would you like to try one of these yourself?\n",
    "\n",
    "I can give you two vectors, and you try either the dot or cross product manually — want to go for it?\n"
   ]
  },
  {
   "cell_type": "code",
   "execution_count": null,
   "id": "2df98926-d1f4-4ab0-8c9b-53f4baf35241",
   "metadata": {},
   "outputs": [],
   "source": []
  }
 ],
 "metadata": {
  "kernelspec": {
   "display_name": "Python [conda env:base] *",
   "language": "python",
   "name": "conda-base-py"
  },
  "language_info": {
   "codemirror_mode": {
    "name": "ipython",
    "version": 3
   },
   "file_extension": ".py",
   "mimetype": "text/x-python",
   "name": "python",
   "nbconvert_exporter": "python",
   "pygments_lexer": "ipython3",
   "version": "3.12.7"
  }
 },
 "nbformat": 4,
 "nbformat_minor": 5
}
